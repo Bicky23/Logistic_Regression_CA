{
 "cells": [
  {
   "cell_type": "markdown",
   "metadata": {
    "slideshow": {
     "slide_type": "slide"
    }
   },
   "source": [
    "## Predicting Employee Churn with Logistic Regression\n",
    "\n",
    "<img src='../images/cover.webp'>"
   ]
  },
  {
   "cell_type": "markdown",
   "metadata": {
    "slideshow": {
     "slide_type": "slide"
    }
   },
   "source": [
    "## **`CHURN`** means .... \n",
    "\n",
    "\n",
    "- **`Churn`** is a business term which refers to an event when customers leave/cease paying for a product/service. \n",
    "\n",
    "- Customer is **churned** once a particular amount of time has elapsed since the customer's last interaction with the service/product.\n",
    "\n",
    "- Results in direct (customer leaves the service) and indirect (resources to find new customers) loss of revenue.\n",
    "\n",
    "- **`Churn prediction`** is the *ability to predict that customer is at a high risk of churning*.\n",
    "\n",
    "- A critical figure in businesses, as acquiring new customers is a lot more costly than retaining existing ones and therefore is a key business goal."
   ]
  },
  {
   "cell_type": "markdown",
   "metadata": {
    "slideshow": {
     "slide_type": "subslide"
    }
   },
   "source": [
    "## **`Employee Churn`** \n",
    "\n",
    "- **Employee Churn** is where ***customer*** is the ***employee*** of the organization. \n",
    "\n",
    "- People with niche skills are important to replace\n",
    "\n",
    "- Disrupts ongoing workflow of workers\n",
    "\n",
    "- Very costly for organizations, where costs include but not limited to: separation, vacancy, recruitment, training and replacement.\n",
    "\n",
    "- **`Employee Churn prediction`** helps management design better strategies to reduce downturn of revenue "
   ]
  },
  {
   "cell_type": "markdown",
   "metadata": {
    "slideshow": {
     "slide_type": "slide"
    }
   },
   "source": [
    "## Agenda\n",
    "\n",
    "- Exploratory Data Analysis\n",
    "- Data preprocessing\n",
    "- Introduction to classification\n",
    "- **Solving classification problems with linear regression**\n",
    "- Building blocks of Logistic Regression\n",
    "    - Odds ratio\n",
    "    - **Sigmoid**\n",
    "- Cost function intuition\n",
    "- Model building with scikit-learn\n",
    "- Evaluation metrics"
   ]
  },
  {
   "cell_type": "markdown",
   "metadata": {
    "slideshow": {
     "slide_type": "subslide"
    }
   },
   "source": [
    "## Pre-requisites\n",
    "- Python knowledge\n",
    "- Basic statistics (measures of central tendancy, stndard deviation etc.)\n",
    "\n",
    "Good to have:\n",
    "- Working knowledge of linear regression\n",
    "- Gradient descent and linear algebra\n",
    "- Probability and distributions"
   ]
  },
  {
   "cell_type": "markdown",
   "metadata": {
    "slideshow": {
     "slide_type": "subslide"
    }
   },
   "source": [
    "## Session takeaways\n",
    "- Performing exploratory analysis of data\n",
    "- How to preprocess data\n",
    "- Nuts and bolts of logistic regression\n",
    "- How to chose evaluation metric"
   ]
  },
  {
   "cell_type": "markdown",
   "metadata": {
    "slideshow": {
     "slide_type": "slide"
    }
   },
   "source": [
    "## Problem statement\n",
    "\n",
    "- Very famous Kaggle dataset (unfortunately its no longer there on Kaggle)\n",
    "- 14,999 observations and 10 attributes\n",
    "- **Goal** is to predict the probability with which an employee will terminate his service to the company"
   ]
  },
  {
   "cell_type": "markdown",
   "metadata": {
    "slideshow": {
     "slide_type": "subslide"
    }
   },
   "source": [
    "**Feature description**\n",
    "\n",
    "- **satisction_level**: Level of satisfaction {0–1}.\n",
    "- **last_evaluation**: Last performance evaluation by the employer {0–1}.\n",
    "- **number_project**: Number of projects the employee is/was working on at the time of survey.\n",
    "- **average_montly_hours**: Average monthly hours at workplace\n",
    "- **time_spend_company**: Number of years spent in the company.\n",
    "- **Work_accident**: Whether the employee had a workplace accident. (`0`:No, `1`:Yes)\n",
    "- **left**: Whether the employee left the workplace or not {`0`:No, `1`:Yes}.\n",
    "- **promotion_last_5years**: Whether the employee was promoted in the last five years {`0`:No, `1`:Yes}.\n",
    "- **Departments**: Department the employee works for.\n",
    "- **salary**: Relative level of salary {`low`, `medium`, `high`}."
   ]
  },
  {
   "cell_type": "markdown",
   "metadata": {
    "slideshow": {
     "slide_type": "slide"
    }
   },
   "source": [
    "## Exploratory Data Analysis (EDA)\n",
    "\n",
    "- First load the data\n",
    "- Perform basic level analysis on data with the help of statistical methods\n",
    "- Look at data from various angles without making any assumptions"
   ]
  },
  {
   "cell_type": "markdown",
   "metadata": {
    "slideshow": {
     "slide_type": "subslide"
    }
   },
   "source": [
    "## Load data with `pandas`"
   ]
  },
  {
   "cell_type": "code",
   "execution_count": 1,
   "metadata": {
    "slideshow": {
     "slide_type": "fragment"
    }
   },
   "outputs": [
    {
     "data": {
      "text/html": [
       "<div>\n",
       "<style scoped>\n",
       "    .dataframe tbody tr th:only-of-type {\n",
       "        vertical-align: middle;\n",
       "    }\n",
       "\n",
       "    .dataframe tbody tr th {\n",
       "        vertical-align: top;\n",
       "    }\n",
       "\n",
       "    .dataframe thead th {\n",
       "        text-align: right;\n",
       "    }\n",
       "</style>\n",
       "<table border=\"1\" class=\"dataframe\">\n",
       "  <thead>\n",
       "    <tr style=\"text-align: right;\">\n",
       "      <th></th>\n",
       "      <th>satisfaction_level</th>\n",
       "      <th>last_evaluation</th>\n",
       "      <th>number_project</th>\n",
       "      <th>average_montly_hours</th>\n",
       "      <th>time_spend_company</th>\n",
       "      <th>Work_accident</th>\n",
       "      <th>left</th>\n",
       "      <th>promotion_last_5years</th>\n",
       "      <th>Departments</th>\n",
       "      <th>salary</th>\n",
       "    </tr>\n",
       "  </thead>\n",
       "  <tbody>\n",
       "    <tr>\n",
       "      <th>0</th>\n",
       "      <td>0.38</td>\n",
       "      <td>0.53</td>\n",
       "      <td>2</td>\n",
       "      <td>157</td>\n",
       "      <td>3</td>\n",
       "      <td>0</td>\n",
       "      <td>1</td>\n",
       "      <td>0</td>\n",
       "      <td>sales</td>\n",
       "      <td>low</td>\n",
       "    </tr>\n",
       "    <tr>\n",
       "      <th>1</th>\n",
       "      <td>0.80</td>\n",
       "      <td>0.86</td>\n",
       "      <td>5</td>\n",
       "      <td>262</td>\n",
       "      <td>6</td>\n",
       "      <td>0</td>\n",
       "      <td>1</td>\n",
       "      <td>0</td>\n",
       "      <td>sales</td>\n",
       "      <td>medium</td>\n",
       "    </tr>\n",
       "    <tr>\n",
       "      <th>2</th>\n",
       "      <td>0.11</td>\n",
       "      <td>0.88</td>\n",
       "      <td>7</td>\n",
       "      <td>272</td>\n",
       "      <td>4</td>\n",
       "      <td>0</td>\n",
       "      <td>1</td>\n",
       "      <td>0</td>\n",
       "      <td>sales</td>\n",
       "      <td>medium</td>\n",
       "    </tr>\n",
       "    <tr>\n",
       "      <th>3</th>\n",
       "      <td>0.72</td>\n",
       "      <td>0.87</td>\n",
       "      <td>5</td>\n",
       "      <td>223</td>\n",
       "      <td>5</td>\n",
       "      <td>0</td>\n",
       "      <td>1</td>\n",
       "      <td>0</td>\n",
       "      <td>sales</td>\n",
       "      <td>low</td>\n",
       "    </tr>\n",
       "    <tr>\n",
       "      <th>4</th>\n",
       "      <td>0.37</td>\n",
       "      <td>0.52</td>\n",
       "      <td>2</td>\n",
       "      <td>159</td>\n",
       "      <td>3</td>\n",
       "      <td>0</td>\n",
       "      <td>1</td>\n",
       "      <td>0</td>\n",
       "      <td>sales</td>\n",
       "      <td>low</td>\n",
       "    </tr>\n",
       "  </tbody>\n",
       "</table>\n",
       "</div>"
      ],
      "text/plain": [
       "   satisfaction_level  last_evaluation  number_project  average_montly_hours  \\\n",
       "0                0.38             0.53               2                   157   \n",
       "1                0.80             0.86               5                   262   \n",
       "2                0.11             0.88               7                   272   \n",
       "3                0.72             0.87               5                   223   \n",
       "4                0.37             0.52               2                   159   \n",
       "\n",
       "   time_spend_company  Work_accident  left  promotion_last_5years  \\\n",
       "0                   3              0     1                      0   \n",
       "1                   6              0     1                      0   \n",
       "2                   4              0     1                      0   \n",
       "3                   5              0     1                      0   \n",
       "4                   3              0     1                      0   \n",
       "\n",
       "  Departments   salary  \n",
       "0        sales     low  \n",
       "1        sales  medium  \n",
       "2        sales  medium  \n",
       "3        sales     low  \n",
       "4        sales     low  "
      ]
     },
     "execution_count": 1,
     "metadata": {},
     "output_type": "execute_result"
    }
   ],
   "source": [
    "# import necessary packages\n",
    "import pandas as pd\n",
    "import numpy as np\n",
    "import matplotlib.pyplot as plt\n",
    "%matplotlib inline\n",
    "import seaborn as sns\n",
    "sns.set_style(\"darkgrid\")\n",
    "\n",
    "# load data\n",
    "df = pd.read_csv('../data/churn.csv')\n",
    "\n",
    "# first five observations\n",
    "df.head()"
   ]
  },
  {
   "cell_type": "markdown",
   "metadata": {
    "slideshow": {
     "slide_type": "subslide"
    }
   },
   "source": [
    "## Shape of data and data types of features"
   ]
  },
  {
   "cell_type": "code",
   "execution_count": 2,
   "metadata": {
    "slideshow": {
     "slide_type": "fragment"
    }
   },
   "outputs": [
    {
     "name": "stdout",
     "output_type": "stream",
     "text": [
      "(14999, 10)\n",
      "==================================================\n",
      "<class 'pandas.core.frame.DataFrame'>\n",
      "RangeIndex: 14999 entries, 0 to 14998\n",
      "Data columns (total 10 columns):\n",
      "satisfaction_level       14999 non-null float64\n",
      "last_evaluation          14999 non-null float64\n",
      "number_project           14999 non-null int64\n",
      "average_montly_hours     14999 non-null int64\n",
      "time_spend_company       14999 non-null int64\n",
      "Work_accident            14999 non-null int64\n",
      "left                     14999 non-null int64\n",
      "promotion_last_5years    14999 non-null int64\n",
      "Departments              14999 non-null object\n",
      "salary                   14999 non-null object\n",
      "dtypes: float64(2), int64(6), object(2)\n",
      "memory usage: 1.1+ MB\n"
     ]
    }
   ],
   "source": [
    "# shape of data\n",
    "print(df.shape)\n",
    "print('='*50)\n",
    "\n",
    "# information about data types of features\n",
    "df.info()"
   ]
  },
  {
   "cell_type": "markdown",
   "metadata": {
    "slideshow": {
     "slide_type": "subslide"
    }
   },
   "source": [
    "## Any missing values in data?"
   ]
  },
  {
   "cell_type": "code",
   "execution_count": 3,
   "metadata": {
    "slideshow": {
     "slide_type": "fragment"
    }
   },
   "outputs": [
    {
     "data": {
      "text/plain": [
       "satisfaction_level       0\n",
       "last_evaluation          0\n",
       "number_project           0\n",
       "average_montly_hours     0\n",
       "time_spend_company       0\n",
       "Work_accident            0\n",
       "left                     0\n",
       "promotion_last_5years    0\n",
       "Departments              0\n",
       "salary                   0\n",
       "dtype: int64"
      ]
     },
     "execution_count": 3,
     "metadata": {},
     "output_type": "execute_result"
    }
   ],
   "source": [
    "# check for presence of null values\n",
    "df.isnull().sum()"
   ]
  },
  {
   "cell_type": "markdown",
   "metadata": {
    "slideshow": {
     "slide_type": "subslide"
    }
   },
   "source": [
    "## Why Employees leave in the first place?"
   ]
  },
  {
   "cell_type": "code",
   "execution_count": 4,
   "metadata": {
    "slideshow": {
     "slide_type": "fragment"
    }
   },
   "outputs": [
    {
     "data": {
      "text/html": [
       "<div>\n",
       "<style scoped>\n",
       "    .dataframe tbody tr th:only-of-type {\n",
       "        vertical-align: middle;\n",
       "    }\n",
       "\n",
       "    .dataframe tbody tr th {\n",
       "        vertical-align: top;\n",
       "    }\n",
       "\n",
       "    .dataframe thead th {\n",
       "        text-align: right;\n",
       "    }\n",
       "</style>\n",
       "<table border=\"1\" class=\"dataframe\">\n",
       "  <thead>\n",
       "    <tr style=\"text-align: right;\">\n",
       "      <th></th>\n",
       "      <th>satisfaction_level</th>\n",
       "      <th>last_evaluation</th>\n",
       "      <th>number_project</th>\n",
       "      <th>average_montly_hours</th>\n",
       "      <th>time_spend_company</th>\n",
       "      <th>Work_accident</th>\n",
       "      <th>promotion_last_5years</th>\n",
       "    </tr>\n",
       "    <tr>\n",
       "      <th>left</th>\n",
       "      <th></th>\n",
       "      <th></th>\n",
       "      <th></th>\n",
       "      <th></th>\n",
       "      <th></th>\n",
       "      <th></th>\n",
       "      <th></th>\n",
       "    </tr>\n",
       "  </thead>\n",
       "  <tbody>\n",
       "    <tr>\n",
       "      <th>0</th>\n",
       "      <td>0.666810</td>\n",
       "      <td>0.715473</td>\n",
       "      <td>3.786664</td>\n",
       "      <td>199.060203</td>\n",
       "      <td>3.380032</td>\n",
       "      <td>0.175009</td>\n",
       "      <td>0.026251</td>\n",
       "    </tr>\n",
       "    <tr>\n",
       "      <th>1</th>\n",
       "      <td>0.440098</td>\n",
       "      <td>0.718113</td>\n",
       "      <td>3.855503</td>\n",
       "      <td>207.419210</td>\n",
       "      <td>3.876505</td>\n",
       "      <td>0.047326</td>\n",
       "      <td>0.005321</td>\n",
       "    </tr>\n",
       "  </tbody>\n",
       "</table>\n",
       "</div>"
      ],
      "text/plain": [
       "      satisfaction_level  last_evaluation  number_project  \\\n",
       "left                                                        \n",
       "0               0.666810         0.715473        3.786664   \n",
       "1               0.440098         0.718113        3.855503   \n",
       "\n",
       "      average_montly_hours  time_spend_company  Work_accident  \\\n",
       "left                                                            \n",
       "0               199.060203            3.380032       0.175009   \n",
       "1               207.419210            3.876505       0.047326   \n",
       "\n",
       "      promotion_last_5years  \n",
       "left                         \n",
       "0                  0.026251  \n",
       "1                  0.005321  "
      ]
     },
     "execution_count": 4,
     "metadata": {},
     "output_type": "execute_result"
    }
   ],
   "source": [
    "# mean attribute values across attributes for employees who left vs employees who are at the company\n",
    "df.groupby('left').mean()"
   ]
  },
  {
   "cell_type": "code",
   "execution_count": 5,
   "metadata": {
    "slideshow": {
     "slide_type": "fragment"
    }
   },
   "outputs": [
    {
     "data": {
      "text/html": [
       "<div>\n",
       "<style scoped>\n",
       "    .dataframe tbody tr th:only-of-type {\n",
       "        vertical-align: middle;\n",
       "    }\n",
       "\n",
       "    .dataframe tbody tr th {\n",
       "        vertical-align: top;\n",
       "    }\n",
       "\n",
       "    .dataframe thead th {\n",
       "        text-align: right;\n",
       "    }\n",
       "</style>\n",
       "<table border=\"1\" class=\"dataframe\">\n",
       "  <thead>\n",
       "    <tr style=\"text-align: right;\">\n",
       "      <th></th>\n",
       "      <th></th>\n",
       "      <th>salary</th>\n",
       "    </tr>\n",
       "    <tr>\n",
       "      <th>left</th>\n",
       "      <th>salary</th>\n",
       "      <th></th>\n",
       "    </tr>\n",
       "  </thead>\n",
       "  <tbody>\n",
       "    <tr>\n",
       "      <th rowspan=\"3\" valign=\"top\">0</th>\n",
       "      <th>high</th>\n",
       "      <td>1155</td>\n",
       "    </tr>\n",
       "    <tr>\n",
       "      <th>low</th>\n",
       "      <td>5144</td>\n",
       "    </tr>\n",
       "    <tr>\n",
       "      <th>medium</th>\n",
       "      <td>5129</td>\n",
       "    </tr>\n",
       "    <tr>\n",
       "      <th rowspan=\"3\" valign=\"top\">1</th>\n",
       "      <th>high</th>\n",
       "      <td>82</td>\n",
       "    </tr>\n",
       "    <tr>\n",
       "      <th>low</th>\n",
       "      <td>2172</td>\n",
       "    </tr>\n",
       "    <tr>\n",
       "      <th>medium</th>\n",
       "      <td>1317</td>\n",
       "    </tr>\n",
       "  </tbody>\n",
       "</table>\n",
       "</div>"
      ],
      "text/plain": [
       "             salary\n",
       "left salary        \n",
       "0    high      1155\n",
       "     low       5144\n",
       "     medium    5129\n",
       "1    high        82\n",
       "     low       2172\n",
       "     medium    1317"
      ]
     },
     "execution_count": 5,
     "metadata": {},
     "output_type": "execute_result"
    }
   ],
   "source": [
    "# number of employees across different salary brackets\n",
    "pd.DataFrame(df.groupby(['left', 'salary'])['salary'].count())"
   ]
  },
  {
   "cell_type": "markdown",
   "metadata": {
    "slideshow": {
     "slide_type": "notes"
    }
   },
   "source": [
    "Employees leave because of: \n",
    "- Lower satisfaction levels\n",
    "- Lower promotion rates\n",
    "- Spend more time on their job\n",
    "- Lesser salary"
   ]
  },
  {
   "cell_type": "markdown",
   "metadata": {
    "slideshow": {
     "slide_type": "subslide"
    }
   },
   "source": [
    "##  Feature-wise bar-chart of Employees leaving vs Employees staying"
   ]
  },
  {
   "cell_type": "code",
   "execution_count": 6,
   "metadata": {
    "slideshow": {
     "slide_type": "fragment"
    }
   },
   "outputs": [
    {
     "data": {
      "image/png": "[encoded data removed]",
      "text/plain": [
       "<Figure size 1080x720 with 7 Axes>"
      ]
     },
     "metadata": {
      "needs_background": "light"
     },
     "output_type": "display_data"
    }
   ],
   "source": [
    "# list of features\n",
    "features=['number_project','time_spend_company','Work_accident','left', \n",
    "          'promotion_last_5years','Departments ','salary']\n",
    "\n",
    "# initialize figure\n",
    "fig = plt.subplots(figsize=(15,10))\n",
    "\n",
    "for i, j in enumerate(features):\n",
    "    plt.subplot(2, 4, i+1)\n",
    "    sns.countplot(x=j,data = df, hue='left')\n",
    "    plt.xticks(rotation=90)\n",
    "    plt.title(\"No. of employee\")"
   ]
  },
  {
   "cell_type": "markdown",
   "metadata": {
    "slideshow": {
     "slide_type": "subslide"
    }
   },
   "source": [
    "## Key takeaways\n",
    "\n",
    "- **Less projects**: Employees with less number of projects (less than 3) are prone to leave.\n",
    "- **Fatigue**: Employees with more than 5 projects are also prone to leave the organization.\n",
    "- **Loyalty**: Employees with less than 3 years experience stay (time of learning) and those with more than 5 years are extremely loyal.\n",
    "- **Promotion**: No promotion increases the chances of leaving\n",
    "- **Departments**: `Sales`, `Technical` and `Support` teams have the highest number of employees leaving\n",
    "- **Salary**: Employees with salary brackets in `low` and `medium` have higher chances of leaving"
   ]
  },
  {
   "cell_type": "markdown",
   "metadata": {
    "slideshow": {
     "slide_type": "subslide"
    }
   },
   "source": [
    "## Data Preprocessing\n",
    "\n",
    "- Precursor to modelling\n",
    "- Make data format consistent\n",
    "- Generally includes missing value imputation, outlier removal and other data transformation techniques"
   ]
  },
  {
   "cell_type": "code",
   "execution_count": 7,
   "metadata": {
    "slideshow": {
     "slide_type": "fragment"
    }
   },
   "outputs": [
    {
     "data": {
      "text/html": [
       "<div>\n",
       "<style scoped>\n",
       "    .dataframe tbody tr th:only-of-type {\n",
       "        vertical-align: middle;\n",
       "    }\n",
       "\n",
       "    .dataframe tbody tr th {\n",
       "        vertical-align: top;\n",
       "    }\n",
       "\n",
       "    .dataframe thead th {\n",
       "        text-align: right;\n",
       "    }\n",
       "</style>\n",
       "<table border=\"1\" class=\"dataframe\">\n",
       "  <thead>\n",
       "    <tr style=\"text-align: right;\">\n",
       "      <th></th>\n",
       "      <th>satisfaction_level</th>\n",
       "      <th>last_evaluation</th>\n",
       "      <th>number_project</th>\n",
       "      <th>average_montly_hours</th>\n",
       "      <th>time_spend_company</th>\n",
       "      <th>Work_accident</th>\n",
       "      <th>left</th>\n",
       "      <th>promotion_last_5years</th>\n",
       "      <th>Departments</th>\n",
       "      <th>salary</th>\n",
       "    </tr>\n",
       "  </thead>\n",
       "  <tbody>\n",
       "    <tr>\n",
       "      <th>0</th>\n",
       "      <td>0.38</td>\n",
       "      <td>0.53</td>\n",
       "      <td>2</td>\n",
       "      <td>157</td>\n",
       "      <td>3</td>\n",
       "      <td>0</td>\n",
       "      <td>1</td>\n",
       "      <td>0</td>\n",
       "      <td>7</td>\n",
       "      <td>1</td>\n",
       "    </tr>\n",
       "    <tr>\n",
       "      <th>1</th>\n",
       "      <td>0.80</td>\n",
       "      <td>0.86</td>\n",
       "      <td>5</td>\n",
       "      <td>262</td>\n",
       "      <td>6</td>\n",
       "      <td>0</td>\n",
       "      <td>1</td>\n",
       "      <td>0</td>\n",
       "      <td>7</td>\n",
       "      <td>2</td>\n",
       "    </tr>\n",
       "    <tr>\n",
       "      <th>2</th>\n",
       "      <td>0.11</td>\n",
       "      <td>0.88</td>\n",
       "      <td>7</td>\n",
       "      <td>272</td>\n",
       "      <td>4</td>\n",
       "      <td>0</td>\n",
       "      <td>1</td>\n",
       "      <td>0</td>\n",
       "      <td>7</td>\n",
       "      <td>2</td>\n",
       "    </tr>\n",
       "    <tr>\n",
       "      <th>3</th>\n",
       "      <td>0.72</td>\n",
       "      <td>0.87</td>\n",
       "      <td>5</td>\n",
       "      <td>223</td>\n",
       "      <td>5</td>\n",
       "      <td>0</td>\n",
       "      <td>1</td>\n",
       "      <td>0</td>\n",
       "      <td>7</td>\n",
       "      <td>1</td>\n",
       "    </tr>\n",
       "    <tr>\n",
       "      <th>4</th>\n",
       "      <td>0.37</td>\n",
       "      <td>0.52</td>\n",
       "      <td>2</td>\n",
       "      <td>159</td>\n",
       "      <td>3</td>\n",
       "      <td>0</td>\n",
       "      <td>1</td>\n",
       "      <td>0</td>\n",
       "      <td>7</td>\n",
       "      <td>1</td>\n",
       "    </tr>\n",
       "  </tbody>\n",
       "</table>\n",
       "</div>"
      ],
      "text/plain": [
       "   satisfaction_level  last_evaluation  number_project  average_montly_hours  \\\n",
       "0                0.38             0.53               2                   157   \n",
       "1                0.80             0.86               5                   262   \n",
       "2                0.11             0.88               7                   272   \n",
       "3                0.72             0.87               5                   223   \n",
       "4                0.37             0.52               2                   159   \n",
       "\n",
       "   time_spend_company  Work_accident  left  promotion_last_5years  \\\n",
       "0                   3              0     1                      0   \n",
       "1                   6              0     1                      0   \n",
       "2                   4              0     1                      0   \n",
       "3                   5              0     1                      0   \n",
       "4                   3              0     1                      0   \n",
       "\n",
       "   Departments   salary  \n",
       "0             7       1  \n",
       "1             7       2  \n",
       "2             7       2  \n",
       "3             7       1  \n",
       "4             7       1  "
      ]
     },
     "execution_count": 7,
     "metadata": {},
     "output_type": "execute_result"
    }
   ],
   "source": [
    "# import LabelEncoder\n",
    "from sklearn import preprocessing\n",
    "\n",
    "# creating labelEncoder object\n",
    "le = preprocessing.LabelEncoder()\n",
    "\n",
    "# Converting string labels into numbers\n",
    "df['salary']=le.fit_transform(df['salary'])\n",
    "df['Departments ']=le.fit_transform(df['Departments '])\n",
    "df.head()"
   ]
  },
  {
   "cell_type": "markdown",
   "metadata": {
    "slideshow": {
     "slide_type": "subslide"
    }
   },
   "source": [
    "## Split into features and target"
   ]
  },
  {
   "cell_type": "code",
   "execution_count": 8,
   "metadata": {
    "slideshow": {
     "slide_type": "fragment"
    }
   },
   "outputs": [],
   "source": [
    "# Spliting data into features and targets\n",
    "X = df[['satisfaction_level', 'last_evaluation', 'number_project',\n",
    "       'average_montly_hours', 'time_spend_company', 'Work_accident',\n",
    "       'promotion_last_5years', 'Departments ', 'salary']]\n",
    "y = df['left']"
   ]
  },
  {
   "cell_type": "markdown",
   "metadata": {
    "slideshow": {
     "slide_type": "subslide"
    }
   },
   "source": [
    "## Split into training and test sets"
   ]
  },
  {
   "cell_type": "code",
   "execution_count": 9,
   "metadata": {
    "slideshow": {
     "slide_type": "fragment"
    }
   },
   "outputs": [],
   "source": [
    "# import train_test_split function\n",
    "from sklearn.model_selection import train_test_split\n",
    "\n",
    "# split dataset into training set and test set\n",
    "X_train, X_test, y_train, y_test = train_test_split(X, y, test_size=0.25, random_state=2)  \n",
    "# 70% training and 30% test"
   ]
  },
  {
   "cell_type": "markdown",
   "metadata": {
    "slideshow": {
     "slide_type": "subslide"
    }
   },
   "source": [
    "## What is Classification?\n",
    "\n",
    "- Group data according to some criteria based on attributes. Ex:\n",
    "    - Predict genre of movie as **horror/suspense/thriller** based on plot, duration, actors etc.  \n",
    "    - Classify emails as **spam/ham email** based on email subject, email message, attachments etc.\n",
    "- `Different from regression`: Predict categories (discrete value) not continuous values. \n",
    "- Supervised learning mode; unsupervised version similar to classification also exists (clustering)."
   ]
  },
  {
   "cell_type": "markdown",
   "metadata": {
    "slideshow": {
     "slide_type": "subslide"
    }
   },
   "source": [
    "**Supervised vs Unsupervised learning**\n",
    "\n",
    "<img src='../images/supervised.png'>"
   ]
  },
  {
   "cell_type": "markdown",
   "metadata": {
    "slideshow": {
     "slide_type": "subslide"
    }
   },
   "source": [
    "- **`Unsupervised`**: We don't know about the targets of data points and goal is to categorize data into a finite number of categories based on given features\n",
    "- **`Supervised`**: Information about true targets are known (shown by colored points) and goal is predict that information (number/category) on unseen data"
   ]
  },
  {
   "cell_type": "markdown",
   "metadata": {
    "slideshow": {
     "slide_type": "subslide"
    }
   },
   "source": [
    "## Can we solve classification with linear regression?\n",
    "\n",
    "- Technically yes!\n",
    "    - Set a threshold to demarcate boundary between classes of the target variable\n",
    "- One reason is target value in classification is discrete valued (ex: 0/1, male/female) and not continuous.\n",
    "- Not used because the decision boundary is highly unstable (prone to outliers)\n",
    "\n",
    "|Without outlier | With outlier|\n",
    "| --- | --- |\n",
    "|<img src='../images/1.png'> | <img src='../images/2.png'> |"
   ]
  },
  {
   "cell_type": "markdown",
   "metadata": {
    "slideshow": {
     "slide_type": "subslide"
    }
   },
   "source": [
    "## Solving with logistic regression\n",
    "\n",
    "- First round up values between 0 and 1. How to do it? -----> **Sigmoid**\n",
    "\n",
    "- Sigmoid value represents the probability that the target has a value of 1\n",
    "\n",
    "\n",
    "<img src='../images/sigmoid.png' align='center'>"
   ]
  },
  {
   "cell_type": "markdown",
   "metadata": {
    "slideshow": {
     "slide_type": "subslide"
    }
   },
   "source": [
    "## Is sigmoid stable?\n",
    "\n",
    "- Max. value = 1\n",
    "- Min. value = 1\n",
    "\n",
    "<img src='../images/sig.png'>"
   ]
  },
  {
   "cell_type": "markdown",
   "metadata": {
    "slideshow": {
     "slide_type": "subslide"
    }
   },
   "source": [
    "## Odds and Odds ratio\n",
    "\n",
    "For binary outcomes, if **`p`** is the probability of success then probability of failure is **`(1-p)`**\n",
    "\n",
    "Odds ratio = $\\mathbf{\\frac{p}{1-p}}$\n",
    "\n",
    "**Plot of odds ratio vs probability of success (p)**\n",
    "\n",
    "<img src='../images/Odd.png' align='left'>"
   ]
  },
  {
   "cell_type": "markdown",
   "metadata": {
    "slideshow": {
     "slide_type": "subslide"
    }
   },
   "source": [
    "## Log Odds ratio\n",
    "\n",
    "Turns out it is very hard to work with odds ratio, so we take logarithm of odds ratio. \n",
    "\n",
    "<img src='../images/log.png'>"
   ]
  },
  {
   "cell_type": "markdown",
   "metadata": {
    "slideshow": {
     "slide_type": "subslide"
    }
   },
   "source": [
    "## How did we arrive at the sigmoid?\n",
    "\n",
    "$\\text{logit(p)} = log(\\frac{p}{1-p}) = \\theta_0 + \\theta_1x_1 + \\theta_2x_2 + .... + \\theta_nx_n$\n",
    "\n",
    "- Right hand side of above equation looks pretty familiar with that of a sraight line\n",
    "\n",
    "> $$ p = \\frac{e^{\\theta_0 + \\theta_1x_1 + \\theta_2x_2 + .... + \\theta_nx_n}}{1 + e^{\\theta_0 + \\theta_1x_1 + \\theta_2x_2 + .... + \\theta_nx_n}}$$\n",
    "\n",
    "> $$ p = \\frac{1}{1 + e^-({\\theta_0 + \\theta_1x_1 + \\theta_2x_2 + .... + \\theta_nx_n})} $$ which is the sigmoid function"
   ]
  },
  {
   "cell_type": "markdown",
   "metadata": {
    "slideshow": {
     "slide_type": "subslide"
    }
   },
   "source": [
    "## Finding optimal parameters\n",
    "\n",
    "- Now aim is to find the best fit parameters ($\\theta_0$, $\\theta_1$, ... ) for the model.\n",
    "\n",
    "- Use MLE (Maximum Likelihood Estimation) technique to find optimal paramters.\n",
    "\n",
    "- MLE represents the likelihood of observing training data\n",
    "\n",
    "Ex: Assume we have a labeled example($x_i, y_i$) in training data and we found specific parameter values (i.e. $\\theta\\text{s}$). If we now apply our sigmoid function to it, we will get some value of $p$ ($0<= p <= 1$) as output. If$y_i$ is the positive class,the likelihood of $y_i$ being the positive class, according to our model, is given by $p$. Similarly, if $y_i$ is the negative class, the likelihood of it being the negative class is given by $1−p$."
   ]
  },
  {
   "cell_type": "markdown",
   "metadata": {
    "slideshow": {
     "slide_type": "subslide"
    }
   },
   "source": [
    "## Intuition behind cost function\n",
    "\n",
    "$\\mathbf{\\text{Let } h_\\theta(x) = \\theta_0 + \\theta_1x_1 + \\theta_2x_2 + .... + \\theta_nx_n}$ where $x_i$ are the features and let $y_i$ are the targets (0, 1)\n",
    "\n",
    "$\\text{Goal is to maximize: } \\mathbf{\\prod_{i=1}^{m}{h_\\theta(x)^{y_i}(1-h_\\theta(x))^{1-y_i}}}$\n",
    "\n",
    "We take log of the above expression to make calculation more simple and what we arrive at after that is called the **Cost function**, which is given by: $\\mathbf{J(\\theta)  = -\\frac{1}{m}\\sum_{i=1}^{m}[y_i\\ln h_\\theta(x_i) + (1-y_i) \\ln (1-h_\\theta(x_i))]}$\n",
    "\n",
    "**Case I**:  $y = 1$ \n",
    "\n",
    "The cost function becomes  $J(\\theta) = -\\frac{1}{m}\\sum_{i=1}^{m} \\ln h_\\theta(x_i) $, since $ (1 - y_i) = 0$ \n",
    "\n",
    "**Case II**:  $y = 0$ **\n",
    "\n",
    "Now, this cost function becomes  $J(\\theta) = -\\frac{1}{m} \\sum_{i=1}^{m}(1 - y_i) \\ln (1 - h_\\theta(x_i))$ "
   ]
  },
  {
   "cell_type": "markdown",
   "metadata": {
    "slideshow": {
     "slide_type": "subslide"
    }
   },
   "source": [
    "<img src='../images/cost.png'>\n"
   ]
  },
  {
   "cell_type": "markdown",
   "metadata": {
    "slideshow": {
     "slide_type": "slide"
    }
   },
   "source": [
    "## Model building with scikit-learn\n",
    "\n",
    "Time to build the model with scikit-learn"
   ]
  },
  {
   "cell_type": "code",
   "execution_count": 10,
   "metadata": {
    "slideshow": {
     "slide_type": "fragment"
    }
   },
   "outputs": [
    {
     "name": "stderr",
     "output_type": "stream",
     "text": [
      "/home/bick23/.local/lib/python3.6/site-packages/sklearn/linear_model/logistic.py:433: FutureWarning: Default solver will be changed to 'lbfgs' in 0.22. Specify a solver to silence this warning.\n",
      "  FutureWarning)\n"
     ]
    }
   ],
   "source": [
    "# Model building\n",
    "\n",
    "# import packages\n",
    "from sklearn.linear_model import LogisticRegression\n",
    "\n",
    "# initialize Logistic Regression model\n",
    "logreg = LogisticRegression(random_state=2, class_weight={0:0.24, 1:0.76})\n",
    "\n",
    "# Fit model on training data\n",
    "logreg.fit(X_train, y_train)\n",
    "\n",
    "# Make predictions\n",
    "y_pred = logreg.predict(X_test)"
   ]
  },
  {
   "cell_type": "markdown",
   "metadata": {
    "slideshow": {
     "slide_type": "subslide"
    }
   },
   "source": [
    "## Evaluation metrics\n",
    "- **Accuracy**:\n",
    "- **Confusion matrix**:\n",
    "- **Precision**:\n",
    "- **Recall**: \n",
    "- **ROC-AUC score**: "
   ]
  },
  {
   "cell_type": "code",
   "execution_count": 11,
   "metadata": {
    "slideshow": {
     "slide_type": "subslide"
    }
   },
   "outputs": [
    {
     "name": "stdout",
     "output_type": "stream",
     "text": [
      "[[2083  734]\n",
      " [ 190  743]]\n",
      "====================\n",
      "0.7536\n",
      "====================\n",
      "0.5030467163168585\n",
      "====================\n",
      "0.7963558413719185\n",
      "====================\n",
      "0.7678974805013657\n"
     ]
    }
   ],
   "source": [
    "# Evaluate predictions\n",
    "\n",
    "from sklearn.metrics import accuracy_score, precision_score, recall_score, roc_auc_score, confusion_matrix\n",
    "\n",
    "print(confusion_matrix(y_test, y_pred))\n",
    "print('='*20)\n",
    "\n",
    "print(accuracy_score(y_test, y_pred))\n",
    "print('='*20)\n",
    "\n",
    "print(precision_score(y_test, y_pred))\n",
    "print('='*20)\n",
    "\n",
    "print(recall_score(y_test, y_pred))\n",
    "print('='*20)\n",
    "\n",
    "print(roc_auc_score(y_test, y_pred))"
   ]
  },
  {
   "cell_type": "markdown",
   "metadata": {
    "slideshow": {
     "slide_type": "subslide"
    }
   },
   "source": [
    "## More things to try out\n",
    "- Check for multicollinearity\n",
    "- Undersampling and oversampling\n",
    "- Using other classifiers"
   ]
  },
  {
   "cell_type": "markdown",
   "metadata": {
    "slideshow": {
     "slide_type": "slide"
    }
   },
   "source": [
    "## Need to be covered:\n",
    "- Weight update and gradient descent intuition\n",
    "- Explaination of evaluation metrics\n",
    "- Addition of reference articles"
   ]
  },
  {
   "cell_type": "code",
   "execution_count": null,
   "metadata": {},
   "outputs": [],
   "source": []
  }
 ],
 "metadata": {
  "celltoolbar": "Slideshow",
  "kernelspec": {
   "display_name": "Python 3",
   "language": "python",
   "name": "python3"
  },
  "language_info": {
   "codemirror_mode": {
    "name": "ipython",
    "version": 3
   },
   "file_extension": ".py",
   "mimetype": "text/x-python",
   "name": "python",
   "nbconvert_exporter": "python",
   "pygments_lexer": "ipython3",
   "version": "3.6.6"
  }
 },
 "nbformat": 4,
 "nbformat_minor": 2
}
