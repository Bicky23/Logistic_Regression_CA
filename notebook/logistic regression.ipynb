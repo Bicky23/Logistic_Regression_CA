{
 "cells": [
  {
   "cell_type": "markdown",
   "metadata": {
    "slideshow": {
     "slide_type": "slide"
    }
   },
   "source": [
    "## Classification with Logistic Regression"
   ]
  },
  {
   "cell_type": "markdown",
   "metadata": {
    "slideshow": {
     "slide_type": "subslide"
    }
   },
   "source": [
    "## Agenda\n",
    "\n",
    "- Classification and its types\n",
    "- **Problem statement**\n",
    "- **Solving classification problems with linear regression**\n",
    "- Building blocks of Logistic Regression\n",
    "    - **Sigmoid**\n",
    "    - Odds ratio\n",
    "    - **Decision boundary stability**\n",
    "- Cost function intuition\n",
    "- Model building with scikit-learn\n",
    "- Evaluation metrics"
   ]
  },
  {
   "cell_type": "markdown",
   "metadata": {
    "slideshow": {
     "slide_type": "subslide"
    }
   },
   "source": [
    "## What is Classification?\n",
    "\n",
    "- Group data according to some criteria based on attributes. Ex:\n",
    "    - Predict genre of movie as **horror/suspense/thriller** based on plot, duration, actors etc.  \n",
    "    - Classify emails as **spam/ham email** based on email subject, email message, attachments etc.\n",
    "- `Different from regression`: Predict categories (discrete value) not continuous values. \n",
    "- Supervised learning mode; unsupervised version similar to classification also exists (clustering)."
   ]
  },
  {
   "cell_type": "markdown",
   "metadata": {
    "slideshow": {
     "slide_type": "subslide"
    }
   },
   "source": [
    "- Supervised learning method <img src='../images/supervised.png' wodth=500>"
   ]
  },
  {
   "cell_type": "markdown",
   "metadata": {
    "slideshow": {
     "slide_type": "subslide"
    }
   },
   "source": [
    "- **`Unsupervised`**: We don't know about the targets of data points and goal is to categorize data into a finite number of categories based on given features\n",
    "- **`Supervised`**: Information about true targets are known (shown by colored points) and goal is predict that information (number/category) on unseen data"
   ]
  },
  {
   "cell_type": "markdown",
   "metadata": {
    "slideshow": {
     "slide_type": "subslide"
    }
   },
   "source": [
    "## Problem Statement\n",
    "\n"
   ]
  }
 ],
 "metadata": {
  "celltoolbar": "Slideshow",
  "kernelspec": {
   "display_name": "Python 3",
   "language": "python",
   "name": "python3"
  },
  "language_info": {
   "codemirror_mode": {
    "name": "ipython",
    "version": 3
   },
   "file_extension": ".py",
   "mimetype": "text/x-python",
   "name": "python",
   "nbconvert_exporter": "python",
   "pygments_lexer": "ipython3",
   "version": "3.6.6"
  }
 },
 "nbformat": 4,
 "nbformat_minor": 2
}
