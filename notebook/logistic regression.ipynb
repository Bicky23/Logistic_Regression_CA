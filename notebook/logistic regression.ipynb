{
 "cells": [
  {
   "cell_type": "markdown",
   "metadata": {
    "slideshow": {
     "slide_type": "slide"
    }
   },
   "source": [
    "## Predicting Employee Churn with Logistic Regression\n",
    "\n",
    "<img src='../images/cover.webp'>"
   ]
  },
  {
   "cell_type": "markdown",
   "metadata": {
    "slideshow": {
     "slide_type": "slide"
    }
   },
   "source": [
    "## **`CHURN`** means .... \n",
    "\n",
    "\n",
    "- **`Churn`** is a business term which refers to an event when customers leave/cease paying for a product/service. \n",
    "\n",
    "- Customer is **churned** once a particular amount of time has elapsed since the customer's last interaction with the service/product.\n",
    "\n",
    "- Results in direct (customer leaves the service) and indirect (resources to find new customers) loss of revenue.\n",
    "\n",
    "- A critical parameter in businesses, as acquiring new customers is a lot more costly than retaining existing ones and therefore is a key business goal.\n",
    "\n",
    "- **`Churn prediction`** is the *ability to predict that customer is at a high risk of churning*."
   ]
  },
  {
   "cell_type": "markdown",
   "metadata": {
    "slideshow": {
     "slide_type": "subslide"
    }
   },
   "source": [
    "## **`Employee Churn`** \n",
    "\n",
    "- **Employee Churn** is where ***customer*** is the ***employee*** of the organization. \n",
    "\n",
    "- People with niche skills are important to replace\n",
    "\n",
    "- Disrupts ongoing workflow of workers\n",
    "\n",
    "- Very costly for organizations, where costs include but not limited to: separation, vacancy, recruitment, training and replacement.\n",
    "\n",
    "- **`Employee Churn prediction`** helps management design better strategies to reduce downturn of revenue "
   ]
  },
  {
   "cell_type": "markdown",
   "metadata": {
    "slideshow": {
     "slide_type": "slide"
    }
   },
   "source": [
    "## Agenda\n",
    "\n",
    "- Exploratory Data Analysis\n",
    "- Data preprocessing\n",
    "- Introduction to classification\n",
    "- **Solving classification problems with linear regression**\n",
    "- Building blocks of Logistic Regression\n",
    "    - Odds ratio\n",
    "    - **Sigmoid**\n",
    "- Cost function intuition\n",
    "- Model building with scikit-learn\n",
    "- Evaluation metrics"
   ]
  },
  {
   "cell_type": "markdown",
   "metadata": {
    "slideshow": {
     "slide_type": "subslide"
    }
   },
   "source": [
    "## Pre-requisites\n",
    "- Python knowledge (`NumPy`, `pandas`, `matplotlib` and `seaborn`)\n",
    "- Basic statistics (measures of central tendancy, stndard deviation etc.)\n",
    "\n",
    "Good to have:\n",
    "- Working knowledge of linear regression\n",
    "- Gradient descent and linear algebra\n",
    "- Probability and distributions"
   ]
  },
  {
   "cell_type": "markdown",
   "metadata": {
    "slideshow": {
     "slide_type": "subslide"
    }
   },
   "source": [
    "## Session takeaways\n",
    "- Performing exploratory analysis of data\n",
    "- How to preprocess data\n",
    "- Nuts and bolts of logistic regression\n",
    "- How to chose evaluation metric"
   ]
  },
  {
   "cell_type": "markdown",
   "metadata": {
    "slideshow": {
     "slide_type": "slide"
    }
   },
   "source": [
    "## Problem statement\n",
    "\n",
    "- Very famous Kaggle dataset (unfortunately its no longer there on Kaggle)\n",
    "- 14,999 observations and 10 attributes\n",
    "- **Goal** is to predict the probability with which an employee will terminate his service to the company"
   ]
  },
  {
   "cell_type": "markdown",
   "metadata": {
    "slideshow": {
     "slide_type": "subslide"
    }
   },
   "source": [
    "**Feature description**\n",
    "\n",
    "- **satisction_level**: Level of satisfaction {0–1}.\n",
    "- **last_evaluation**: Last performance evaluation by the employer {0–1}.\n",
    "- **number_project**: Number of projects the employee is/was working on at the time of survey.\n",
    "- **average_montly_hours**: Average monthly hours at workplace\n",
    "- **time_spend_company**: Number of years spent in the company.\n",
    "- **Work_accident**: Whether the employee had a workplace accident. (`0`:No, `1`:Yes)\n",
    "- **left**: Whether the employee left the workplace or not {`0`:No, `1`:Yes}.\n",
    "- **promotion_last_5years**: Whether the employee was promoted in the last five years {`0`:No, `1`:Yes}.\n",
    "- **Departments**: Department the employee works for.\n",
    "- **salary**: Relative level of salary {`low`, `medium`, `high`}."
   ]
  },
  {
   "cell_type": "markdown",
   "metadata": {
    "slideshow": {
     "slide_type": "slide"
    }
   },
   "source": [
    "## Exploratory Data Analysis (EDA)\n",
    "\n",
    "- First load the data\n",
    "- Perform basic level analysis on data with the help of statistical methods\n",
    "- Look at data from various angles without making any assumptions"
   ]
  },
  {
   "cell_type": "markdown",
   "metadata": {
    "slideshow": {
     "slide_type": "subslide"
    }
   },
   "source": [
    "## Load data with `pandas`"
   ]
  },
  {
   "cell_type": "code",
   "execution_count": 1,
   "metadata": {
    "slideshow": {
     "slide_type": "fragment"
    }
   },
   "outputs": [
    {
     "data": {
      "text/html": [
       "<div>\n",
       "<style scoped>\n",
       "    .dataframe tbody tr th:only-of-type {\n",
       "        vertical-align: middle;\n",
       "    }\n",
       "\n",
       "    .dataframe tbody tr th {\n",
       "        vertical-align: top;\n",
       "    }\n",
       "\n",
       "    .dataframe thead th {\n",
       "        text-align: right;\n",
       "    }\n",
       "</style>\n",
       "<table border=\"1\" class=\"dataframe\">\n",
       "  <thead>\n",
       "    <tr style=\"text-align: right;\">\n",
       "      <th></th>\n",
       "      <th>satisfaction_level</th>\n",
       "      <th>last_evaluation</th>\n",
       "      <th>number_project</th>\n",
       "      <th>average_montly_hours</th>\n",
       "      <th>time_spend_company</th>\n",
       "      <th>Work_accident</th>\n",
       "      <th>left</th>\n",
       "      <th>promotion_last_5years</th>\n",
       "      <th>Departments</th>\n",
       "      <th>salary</th>\n",
       "    </tr>\n",
       "  </thead>\n",
       "  <tbody>\n",
       "    <tr>\n",
       "      <th>0</th>\n",
       "      <td>0.38</td>\n",
       "      <td>0.53</td>\n",
       "      <td>2</td>\n",
       "      <td>157</td>\n",
       "      <td>3</td>\n",
       "      <td>0</td>\n",
       "      <td>1</td>\n",
       "      <td>0</td>\n",
       "      <td>sales</td>\n",
       "      <td>low</td>\n",
       "    </tr>\n",
       "    <tr>\n",
       "      <th>1</th>\n",
       "      <td>0.80</td>\n",
       "      <td>0.86</td>\n",
       "      <td>5</td>\n",
       "      <td>262</td>\n",
       "      <td>6</td>\n",
       "      <td>0</td>\n",
       "      <td>1</td>\n",
       "      <td>0</td>\n",
       "      <td>sales</td>\n",
       "      <td>medium</td>\n",
       "    </tr>\n",
       "    <tr>\n",
       "      <th>2</th>\n",
       "      <td>0.11</td>\n",
       "      <td>0.88</td>\n",
       "      <td>7</td>\n",
       "      <td>272</td>\n",
       "      <td>4</td>\n",
       "      <td>0</td>\n",
       "      <td>1</td>\n",
       "      <td>0</td>\n",
       "      <td>sales</td>\n",
       "      <td>medium</td>\n",
       "    </tr>\n",
       "    <tr>\n",
       "      <th>3</th>\n",
       "      <td>0.72</td>\n",
       "      <td>0.87</td>\n",
       "      <td>5</td>\n",
       "      <td>223</td>\n",
       "      <td>5</td>\n",
       "      <td>0</td>\n",
       "      <td>1</td>\n",
       "      <td>0</td>\n",
       "      <td>sales</td>\n",
       "      <td>low</td>\n",
       "    </tr>\n",
       "    <tr>\n",
       "      <th>4</th>\n",
       "      <td>0.37</td>\n",
       "      <td>0.52</td>\n",
       "      <td>2</td>\n",
       "      <td>159</td>\n",
       "      <td>3</td>\n",
       "      <td>0</td>\n",
       "      <td>1</td>\n",
       "      <td>0</td>\n",
       "      <td>sales</td>\n",
       "      <td>low</td>\n",
       "    </tr>\n",
       "  </tbody>\n",
       "</table>\n",
       "</div>"
      ],
      "text/plain": [
       "   satisfaction_level  last_evaluation  number_project  average_montly_hours  \\\n",
       "0                0.38             0.53               2                   157   \n",
       "1                0.80             0.86               5                   262   \n",
       "2                0.11             0.88               7                   272   \n",
       "3                0.72             0.87               5                   223   \n",
       "4                0.37             0.52               2                   159   \n",
       "\n",
       "   time_spend_company  Work_accident  left  promotion_last_5years  \\\n",
       "0                   3              0     1                      0   \n",
       "1                   6              0     1                      0   \n",
       "2                   4              0     1                      0   \n",
       "3                   5              0     1                      0   \n",
       "4                   3              0     1                      0   \n",
       "\n",
       "  Departments   salary  \n",
       "0        sales     low  \n",
       "1        sales  medium  \n",
       "2        sales  medium  \n",
       "3        sales     low  \n",
       "4        sales     low  "
      ]
     },
     "execution_count": 1,
     "metadata": {},
     "output_type": "execute_result"
    }
   ],
   "source": [
    "# import necessary packages\n",
    "import pandas as pd\n",
    "import numpy as np\n",
    "import matplotlib.pyplot as plt\n",
    "%matplotlib inline\n",
    "import seaborn as sns\n",
    "sns.set_style(\"darkgrid\")\n",
    "import warnings\n",
    "warnings.filterwarnings('ignore')\n",
    "\n",
    "# load data\n",
    "df = pd.read_csv('../data/churn.csv')\n",
    "\n",
    "# first five observations\n",
    "df.head()"
   ]
  },
  {
   "cell_type": "markdown",
   "metadata": {
    "slideshow": {
     "slide_type": "subslide"
    }
   },
   "source": [
    "## Shape of data and data types of features"
   ]
  },
  {
   "cell_type": "code",
   "execution_count": 2,
   "metadata": {
    "slideshow": {
     "slide_type": "fragment"
    }
   },
   "outputs": [
    {
     "name": "stdout",
     "output_type": "stream",
     "text": [
      "(14999, 10)\n",
      "==================================================\n",
      "<class 'pandas.core.frame.DataFrame'>\n",
      "RangeIndex: 14999 entries, 0 to 14998\n",
      "Data columns (total 10 columns):\n",
      "satisfaction_level       14999 non-null float64\n",
      "last_evaluation          14999 non-null float64\n",
      "number_project           14999 non-null int64\n",
      "average_montly_hours     14999 non-null int64\n",
      "time_spend_company       14999 non-null int64\n",
      "Work_accident            14999 non-null int64\n",
      "left                     14999 non-null int64\n",
      "promotion_last_5years    14999 non-null int64\n",
      "Departments              14999 non-null object\n",
      "salary                   14999 non-null object\n",
      "dtypes: float64(2), int64(6), object(2)\n",
      "memory usage: 1.1+ MB\n"
     ]
    }
   ],
   "source": [
    "# shape of data\n",
    "print(df.shape)\n",
    "print('='*50)\n",
    "\n",
    "# information about data types of features\n",
    "df.info()"
   ]
  },
  {
   "cell_type": "markdown",
   "metadata": {
    "slideshow": {
     "slide_type": "subslide"
    }
   },
   "source": [
    "## Any missing values in data?"
   ]
  },
  {
   "cell_type": "code",
   "execution_count": 3,
   "metadata": {
    "slideshow": {
     "slide_type": "fragment"
    }
   },
   "outputs": [
    {
     "data": {
      "text/plain": [
       "satisfaction_level       0\n",
       "last_evaluation          0\n",
       "number_project           0\n",
       "average_montly_hours     0\n",
       "time_spend_company       0\n",
       "Work_accident            0\n",
       "left                     0\n",
       "promotion_last_5years    0\n",
       "Departments              0\n",
       "salary                   0\n",
       "dtype: int64"
      ]
     },
     "execution_count": 3,
     "metadata": {},
     "output_type": "execute_result"
    }
   ],
   "source": [
    "# check for presence of null values\n",
    "df.isnull().sum()"
   ]
  },
  {
   "cell_type": "markdown",
   "metadata": {
    "slideshow": {
     "slide_type": "subslide"
    }
   },
   "source": [
    "## Is salary a reason for employee churn?"
   ]
  },
  {
   "cell_type": "code",
   "execution_count": 5,
   "metadata": {
    "slideshow": {
     "slide_type": "fragment"
    }
   },
   "outputs": [
    {
     "data": {
      "text/html": [
       "<div>\n",
       "<style scoped>\n",
       "    .dataframe tbody tr th:only-of-type {\n",
       "        vertical-align: middle;\n",
       "    }\n",
       "\n",
       "    .dataframe tbody tr th {\n",
       "        vertical-align: top;\n",
       "    }\n",
       "\n",
       "    .dataframe thead th {\n",
       "        text-align: right;\n",
       "    }\n",
       "</style>\n",
       "<table border=\"1\" class=\"dataframe\">\n",
       "  <thead>\n",
       "    <tr style=\"text-align: right;\">\n",
       "      <th></th>\n",
       "      <th></th>\n",
       "      <th>salary</th>\n",
       "    </tr>\n",
       "    <tr>\n",
       "      <th>left</th>\n",
       "      <th>salary</th>\n",
       "      <th></th>\n",
       "    </tr>\n",
       "  </thead>\n",
       "  <tbody>\n",
       "    <tr>\n",
       "      <th rowspan=\"3\" valign=\"top\">0</th>\n",
       "      <th>high</th>\n",
       "      <td>1155</td>\n",
       "    </tr>\n",
       "    <tr>\n",
       "      <th>low</th>\n",
       "      <td>5144</td>\n",
       "    </tr>\n",
       "    <tr>\n",
       "      <th>medium</th>\n",
       "      <td>5129</td>\n",
       "    </tr>\n",
       "    <tr>\n",
       "      <th rowspan=\"3\" valign=\"top\">1</th>\n",
       "      <th>high</th>\n",
       "      <td>82</td>\n",
       "    </tr>\n",
       "    <tr>\n",
       "      <th>low</th>\n",
       "      <td>2172</td>\n",
       "    </tr>\n",
       "    <tr>\n",
       "      <th>medium</th>\n",
       "      <td>1317</td>\n",
       "    </tr>\n",
       "  </tbody>\n",
       "</table>\n",
       "</div>"
      ],
      "text/plain": [
       "             salary\n",
       "left salary        \n",
       "0    high      1155\n",
       "     low       5144\n",
       "     medium    5129\n",
       "1    high        82\n",
       "     low       2172\n",
       "     medium    1317"
      ]
     },
     "execution_count": 5,
     "metadata": {},
     "output_type": "execute_result"
    }
   ],
   "source": [
    "# number of employees across different salary brackets\n",
    "pd.DataFrame(df.groupby(['left', 'salary'])['salary'].count())"
   ]
  },
  {
   "cell_type": "markdown",
   "metadata": {
    "slideshow": {
     "slide_type": "subslide"
    }
   },
   "source": [
    "##  Feature-wise bar-chart of Employees leaving vs Employees staying"
   ]
  },
  {
   "cell_type": "code",
   "execution_count": 6,
   "metadata": {
    "slideshow": {
     "slide_type": "fragment"
    }
   },
   "outputs": [
    {
     "data": {
      "image/png": "[encoded data removed]",
      "text/plain": [
       "<Figure size 1080x720 with 7 Axes>"
      ]
     },
     "metadata": {
      "needs_background": "light"
     },
     "output_type": "display_data"
    }
   ],
   "source": [
    "# list of features\n",
    "features=['number_project','time_spend_company','Work_accident','left', \n",
    "          'promotion_last_5years','Departments ','salary']\n",
    "\n",
    "# initialize figure\n",
    "fig = plt.subplots(figsize=(15,10))\n",
    "\n",
    "for i, j in enumerate(features):\n",
    "    plt.subplot(2, 4, i+1)\n",
    "    sns.countplot(x=j,data = df, hue='left')\n",
    "    plt.xticks(rotation=90)\n",
    "    plt.title(\"No. of employee\")"
   ]
  },
  {
   "cell_type": "markdown",
   "metadata": {
    "slideshow": {
     "slide_type": "subslide"
    }
   },
   "source": [
    "## Key takeaways\n",
    "\n",
    "- **Less projects**: Employees with less number of projects (less than 3) are prone to leave.\n",
    "- **Fatigue**: Employees with more than 5 projects are also prone to leave the organization.\n",
    "- **Loyalty**: Employees with less than 3 years experience stay and those with more than 5 years are extremely loyal.\n",
    "- **Promotion**: No promotion increases the chances of leaving.\n",
    "- **Departments**: `Sales`, `Technical` and `Support` teams have the highest number of employees leaving.\n",
    "- **Salary**: Employees with salary brackets in `low` and `medium` have higher chances of leaving."
   ]
  },
  {
   "cell_type": "markdown",
   "metadata": {
    "slideshow": {
     "slide_type": "subslide"
    }
   },
   "source": [
    "## Data Preprocessing\n",
    "\n",
    "- Precursor to modelling\n",
    "- Make data format consistent\n",
    "- Generally includes missing value imputation, outlier removal and other data transformation techniques"
   ]
  },
  {
   "cell_type": "code",
   "execution_count": 7,
   "metadata": {
    "slideshow": {
     "slide_type": "fragment"
    }
   },
   "outputs": [
    {
     "data": {
      "text/html": [
       "<div>\n",
       "<style scoped>\n",
       "    .dataframe tbody tr th:only-of-type {\n",
       "        vertical-align: middle;\n",
       "    }\n",
       "\n",
       "    .dataframe tbody tr th {\n",
       "        vertical-align: top;\n",
       "    }\n",
       "\n",
       "    .dataframe thead th {\n",
       "        text-align: right;\n",
       "    }\n",
       "</style>\n",
       "<table border=\"1\" class=\"dataframe\">\n",
       "  <thead>\n",
       "    <tr style=\"text-align: right;\">\n",
       "      <th></th>\n",
       "      <th>satisfaction_level</th>\n",
       "      <th>last_evaluation</th>\n",
       "      <th>number_project</th>\n",
       "      <th>average_montly_hours</th>\n",
       "      <th>time_spend_company</th>\n",
       "      <th>Work_accident</th>\n",
       "      <th>left</th>\n",
       "      <th>promotion_last_5years</th>\n",
       "      <th>Departments</th>\n",
       "      <th>salary</th>\n",
       "    </tr>\n",
       "  </thead>\n",
       "  <tbody>\n",
       "    <tr>\n",
       "      <th>0</th>\n",
       "      <td>0.38</td>\n",
       "      <td>0.53</td>\n",
       "      <td>2</td>\n",
       "      <td>157</td>\n",
       "      <td>3</td>\n",
       "      <td>0</td>\n",
       "      <td>1</td>\n",
       "      <td>0</td>\n",
       "      <td>7</td>\n",
       "      <td>1</td>\n",
       "    </tr>\n",
       "    <tr>\n",
       "      <th>1</th>\n",
       "      <td>0.80</td>\n",
       "      <td>0.86</td>\n",
       "      <td>5</td>\n",
       "      <td>262</td>\n",
       "      <td>6</td>\n",
       "      <td>0</td>\n",
       "      <td>1</td>\n",
       "      <td>0</td>\n",
       "      <td>7</td>\n",
       "      <td>2</td>\n",
       "    </tr>\n",
       "    <tr>\n",
       "      <th>2</th>\n",
       "      <td>0.11</td>\n",
       "      <td>0.88</td>\n",
       "      <td>7</td>\n",
       "      <td>272</td>\n",
       "      <td>4</td>\n",
       "      <td>0</td>\n",
       "      <td>1</td>\n",
       "      <td>0</td>\n",
       "      <td>7</td>\n",
       "      <td>2</td>\n",
       "    </tr>\n",
       "    <tr>\n",
       "      <th>3</th>\n",
       "      <td>0.72</td>\n",
       "      <td>0.87</td>\n",
       "      <td>5</td>\n",
       "      <td>223</td>\n",
       "      <td>5</td>\n",
       "      <td>0</td>\n",
       "      <td>1</td>\n",
       "      <td>0</td>\n",
       "      <td>7</td>\n",
       "      <td>1</td>\n",
       "    </tr>\n",
       "    <tr>\n",
       "      <th>4</th>\n",
       "      <td>0.37</td>\n",
       "      <td>0.52</td>\n",
       "      <td>2</td>\n",
       "      <td>159</td>\n",
       "      <td>3</td>\n",
       "      <td>0</td>\n",
       "      <td>1</td>\n",
       "      <td>0</td>\n",
       "      <td>7</td>\n",
       "      <td>1</td>\n",
       "    </tr>\n",
       "  </tbody>\n",
       "</table>\n",
       "</div>"
      ],
      "text/plain": [
       "   satisfaction_level  last_evaluation  number_project  average_montly_hours  \\\n",
       "0                0.38             0.53               2                   157   \n",
       "1                0.80             0.86               5                   262   \n",
       "2                0.11             0.88               7                   272   \n",
       "3                0.72             0.87               5                   223   \n",
       "4                0.37             0.52               2                   159   \n",
       "\n",
       "   time_spend_company  Work_accident  left  promotion_last_5years  \\\n",
       "0                   3              0     1                      0   \n",
       "1                   6              0     1                      0   \n",
       "2                   4              0     1                      0   \n",
       "3                   5              0     1                      0   \n",
       "4                   3              0     1                      0   \n",
       "\n",
       "   Departments   salary  \n",
       "0             7       1  \n",
       "1             7       2  \n",
       "2             7       2  \n",
       "3             7       1  \n",
       "4             7       1  "
      ]
     },
     "execution_count": 7,
     "metadata": {},
     "output_type": "execute_result"
    }
   ],
   "source": [
    "# import LabelEncoder\n",
    "from sklearn import preprocessing\n",
    "\n",
    "# creating labelEncoder object\n",
    "le = preprocessing.LabelEncoder()\n",
    "\n",
    "# convert string labels into numbers\n",
    "df['salary'] = le.fit_transform(df['salary'])\n",
    "df['Departments '] = le.fit_transform(df['Departments '])\n",
    "df.head()"
   ]
  },
  {
   "cell_type": "markdown",
   "metadata": {
    "slideshow": {
     "slide_type": "subslide"
    }
   },
   "source": [
    "## Split into features and target"
   ]
  },
  {
   "cell_type": "code",
   "execution_count": 8,
   "metadata": {
    "slideshow": {
     "slide_type": "fragment"
    }
   },
   "outputs": [],
   "source": [
    "# Spliting data into features and targets\n",
    "X = df[['satisfaction_level', 'last_evaluation', 'number_project',\n",
    "       'average_montly_hours', 'time_spend_company', 'Work_accident',\n",
    "       'promotion_last_5years', 'Departments ', 'salary']]\n",
    "y = df['left']"
   ]
  },
  {
   "cell_type": "markdown",
   "metadata": {
    "slideshow": {
     "slide_type": "subslide"
    }
   },
   "source": [
    "## Split into training and test sets"
   ]
  },
  {
   "cell_type": "code",
   "execution_count": 9,
   "metadata": {
    "slideshow": {
     "slide_type": "fragment"
    }
   },
   "outputs": [],
   "source": [
    "# import train_test_split function\n",
    "from sklearn.model_selection import train_test_split\n",
    "\n",
    "# split dataset into training set and test set\n",
    "X_train, X_test, y_train, y_test = train_test_split(X, y, test_size=0.25, random_state=2)  \n",
    "# 75% training and 25% test"
   ]
  },
  {
   "cell_type": "markdown",
   "metadata": {
    "slideshow": {
     "slide_type": "slide"
    }
   },
   "source": [
    "## What is Classification?\n",
    "\n",
    "- Group data according to some criteria based on attributes. Ex:\n",
    "    - Predict genre of movie as **horror/suspense/thriller** based on plot, duration, actors etc.  \n",
    "    - Classify emails as **spam/ham email** based on email subject, email message, attachments etc.\n",
    "- `Different from regression`: Predict categories (discrete value) not continuous values. \n",
    "- Supervised learning mode; unsupervised version similar to classification also exists (clustering)."
   ]
  },
  {
   "cell_type": "markdown",
   "metadata": {
    "slideshow": {
     "slide_type": "subslide"
    }
   },
   "source": [
    "**Supervised vs Unsupervised learning**\n",
    "\n",
    "<img src='../images/supervised.png'>"
   ]
  },
  {
   "cell_type": "markdown",
   "metadata": {
    "slideshow": {
     "slide_type": "subslide"
    }
   },
   "source": [
    "- **`Unsupervised`**: We don't know about the targets of data points and goal is to categorize data into a finite number of categories based on given features\n",
    "- **`Supervised`**: Information about true targets are known (shown by colored points) and goal is predict that information (number/category) on unseen data"
   ]
  },
  {
   "cell_type": "markdown",
   "metadata": {
    "slideshow": {
     "slide_type": "subslide"
    }
   },
   "source": [
    "## Can we solve classification with linear regression?\n",
    "\n",
    "- Technically yes! By setting a threshold to demarcate boundary between classes of the target variable\n",
    "- One reason is target value in classification is discrete valued (ex: 0/1, male/female) and not continuous.\n",
    "- Not used because the decision boundary is highly unstable (prone to outliers)\n"
   ]
  },
  {
   "cell_type": "markdown",
   "metadata": {
    "slideshow": {
     "slide_type": "subslide"
    }
   },
   "source": [
    "## Solving with logistic regression\n",
    "\n",
    "- First round up values between 0 and 1. How to do it? -----> **Sigmoid** function\n",
    "\n",
    "- **Sigmoid output represents the probability that the target has a value of** $\\mathbf{1}$\n",
    "\n",
    "\n",
    "<img src='../images/sigmoid.png' align='center'>"
   ]
  },
  {
   "cell_type": "markdown",
   "metadata": {
    "slideshow": {
     "slide_type": "subslide"
    }
   },
   "source": [
    "## Odds and Odds ratio\n",
    "\n",
    "For binary outcomes, if **`p`** is the probability of success then probability of failure is **`(1-p)`**\n",
    "\n",
    "Odds ratio = $\\mathbf{\\frac{p}{1-p}}$\n",
    "\n",
    "**Plot of odds ratio vs probability of success (p)**\n",
    "\n",
    "<img src='../images/Odd.png' align='left'>"
   ]
  },
  {
   "cell_type": "markdown",
   "metadata": {
    "slideshow": {
     "slide_type": "subslide"
    }
   },
   "source": [
    "## Log Odds ratio\n",
    "\n",
    "Turns out it is very hard to work with odds ratio, so we take logarithm of odds ratio. \n",
    "\n",
    "<img src='../images/log.png'>"
   ]
  },
  {
   "cell_type": "markdown",
   "metadata": {
    "slideshow": {
     "slide_type": "subslide"
    }
   },
   "source": [
    "## How did we arrive at the sigmoid?\n",
    "\n",
    "> $\\text{logit(p)} = \\mathbf{log(\\frac{p}{1-p}) = \\theta_0 + \\theta_1x_1 + \\theta_2x_2 + .... + \\theta_nx_n}$ right hand side of above equation looks pretty familiar with that of a sraight line\n",
    "\n",
    "> $$ p = \\frac{e^{\\theta_0 + \\theta_1x_1 + \\theta_2x_2 + .... + \\theta_nx_n}}{1 + e^{\\theta_0 + \\theta_1x_1 + \\theta_2x_2 + .... + \\theta_nx_n}}$$\n",
    "\n",
    "> $$ p = \\frac{1}{1 + e^-({\\theta_0 + \\theta_1x_1 + \\theta_2x_2 + .... + \\theta_nx_n})} $$ which is the sigmoid function"
   ]
  },
  {
   "cell_type": "markdown",
   "metadata": {
    "slideshow": {
     "slide_type": "subslide"
    }
   },
   "source": [
    "## Finding optimal parameters\n",
    "\n",
    "- Use MLE (Maximum Likelihood Estimation) technique to find optimal paramters($\\theta_0$, $\\theta_1$, ... ).\n",
    "\n",
    "- MLE represents the likelihood of observing training data\n",
    "\n",
    "Ex: Assume we have a labeled example($x_i, y_i$) in training data and we found specific parameter values (i.e. $\\mathbf{\\theta}\\text{s}$). If we now apply our sigmoid function to it, we will get some value of $\\mathbf{p}$ ($\\mathbf{0<= p <= 1}$) as output. If$y_i$ is the positive class,the likelihood of $y_i$ being the positive class, according to our model, is given by $\\mathbf{p}$. Similarly, if $y_i$ is the negative class, the likelihood of it being the negative class is given by $\\mathbf{1−p}$."
   ]
  },
  {
   "cell_type": "markdown",
   "metadata": {
    "slideshow": {
     "slide_type": "subslide"
    }
   },
   "source": [
    "## Intuition behind cost function\n",
    "\n",
    "- Let $\\mathbf{h_\\theta(x) = \\frac{1}{1 + e^{-(\\theta_0 + \\theta_1x_1 + \\theta_2x_2 + .... + \\theta_nx_n)}}}$ where $x_i$ are the set of features and $y_i$ are the targets (0, 1)\n",
    "\n",
    "- $\\mathbf{\\text{Goal is to maximize: }} \\mathbf{\\prod_{i=1}^{m}{h_\\theta(x)^{y_i}(1-h_\\theta(x))^{1-y_i}}}$\n",
    "\n",
    "- We take log of the above expression to make calculation more simple and what we arrive at after that is called the **Cost function**, which is given by: $$\\mathbf{J(\\theta)  = \\frac{1}{m}\\sum_{i=1}^{m}[y_i\\ln h_\\theta(x_i) + (1-y_i) \\ln (1-h_\\theta(x_i))]}$$"
   ]
  },
  {
   "cell_type": "markdown",
   "metadata": {
    "slideshow": {
     "slide_type": "subslide"
    }
   },
   "source": [
    "**Case I**:  $y = 1$ \n",
    "\n",
    "The cost function becomes  $J(\\theta) = -\\frac{1}{m}\\sum_{i=1}^{m} \\ln h_\\theta(x_i) $, since $ (1 - y_i) = 0$ \n",
    "\n",
    "**Case II**:  $y = 0$\n",
    "\n",
    "Now, this cost function becomes  $J(\\theta) = -\\frac{1}{m} \\sum_{i=1}^{m}(1 - y_i) \\ln (1 - h_\\theta(x_i))$ "
   ]
  },
  {
   "cell_type": "markdown",
   "metadata": {
    "slideshow": {
     "slide_type": "subslide"
    }
   },
   "source": [
    "<img src='../images/cost.png'>\n"
   ]
  },
  {
   "cell_type": "markdown",
   "metadata": {
    "slideshow": {
     "slide_type": "subslide"
    }
   },
   "source": [
    "## Gradient ascent to find optimal parameters\n",
    "\n",
    "- Find gradient of **Cost Function** w.r.t. the parameters ($\\mathbf{\\theta}s$) \n",
    "\n",
    "$$\\frac{\\partial J(\\theta)}{\\partial \\theta_j} = (y - h_\\theta(x))x_j$$\n",
    "\n",
    "- Update weights as:\n",
    "\n",
    "$$\\theta_j := \\theta_j + \\alpha \\frac{\\partial J(\\theta)}{\\partial \\theta_j} \\text{where } \\alpha \\text{ is the learning rate}$$ \n",
    "\n",
    "$$\\theta_j := \\theta_j + \\alpha x_j(y - h_\\theta(x))$$"
   ]
  },
  {
   "cell_type": "markdown",
   "metadata": {
    "slideshow": {
     "slide_type": "slide"
    }
   },
   "source": [
    "**Check for multicollinearity**\n",
    "\n",
    "- Multicollinearity refers to high correlation between features\n",
    "\n",
    "- Logistic regression assumes features are independent of one another and so multicollinearity should be eliminated."
   ]
  },
  {
   "cell_type": "code",
   "execution_count": 10,
   "metadata": {
    "slideshow": {
     "slide_type": "subslide"
    }
   },
   "outputs": [
    {
     "data": {
      "image/png": "[encoded data removed]",
      "text/plain": [
       "<Figure size 720x360 with 2 Axes>"
      ]
     },
     "metadata": {
      "needs_background": "light"
     },
     "output_type": "display_data"
    }
   ],
   "source": [
    "# correlation matrix of features\n",
    "plt.figure(figsize=(10,5))\n",
    "sns.heatmap(X_train.corr(), annot=True, linewidths=.5)\n",
    "plt.show()"
   ]
  },
  {
   "cell_type": "markdown",
   "metadata": {
    "slideshow": {
     "slide_type": "slide"
    }
   },
   "source": [
    "## Model building with scikit-learn\n",
    "\n",
    "- Data is preprocessed and is now in a consistent format\n",
    "\n",
    "- Time to build a model with scikit-learn"
   ]
  },
  {
   "cell_type": "code",
   "execution_count": 11,
   "metadata": {
    "slideshow": {
     "slide_type": "fragment"
    }
   },
   "outputs": [],
   "source": [
    "# Model building\n",
    "\n",
    "# import packages\n",
    "from sklearn.linear_model import LogisticRegression\n",
    "\n",
    "# initialize Logistic Regression model\n",
    "logreg = LogisticRegression(random_state=2)\n",
    "\n",
    "# fit model on training data\n",
    "logreg.fit(X_train, y_train)\n",
    "\n",
    "# make predictions\n",
    "y_pred = logreg.predict(X_test)"
   ]
  },
  {
   "cell_type": "markdown",
   "metadata": {
    "slideshow": {
     "slide_type": "slide"
    }
   },
   "source": [
    "## Evaluation metrics\n",
    " \n",
    "- **Accuracy**: How many predictions did we get correct? \n",
    "\n",
    "- In our case accuracy cannot be a reliable metric as number of `0`s are more than number of `1`s; or the class distributions are imbalanced.\n",
    "\n",
    "- Other metrics to look at are - `precision`, `recall` and `ROC-AUC score`.\n",
    "\n",
    "- But first understand confusion matrix."
   ]
  },
  {
   "cell_type": "markdown",
   "metadata": {
    "slideshow": {
     "slide_type": "subslide"
    }
   },
   "source": [
    "**Confusion matrix**\n",
    "\n",
    "<img src='../images/conf_matr.png'>"
   ]
  },
  {
   "cell_type": "markdown",
   "metadata": {
    "slideshow": {
     "slide_type": "subslide"
    }
   },
   "source": [
    "**TP**: Employees who were predicted to leave and actually left\n",
    "\n",
    "**FP**: Employees who were predicted to leave but ended up staying\n",
    "\n",
    "**FN**: Employees who were predicted to stay but ended up leaving\n",
    "\n",
    "- **Precision**: Of all the employees who were predicted to leave, how many of them actually leave? $= \\frac{\\mathbf{TP}}{\\mathbf{TP + FP}}$ \n",
    "\n",
    "- **Recall**: Of all the employees who left how many of them were predicted correctly? $= \\frac{\\mathbf{TP}}{\\mathbf{TP + FN}}$\n",
    "\n",
    "- In our case focus should be on minimizing **FN**s rather than **FP**s, so recall should be the go-to-metric"
   ]
  },
  {
   "cell_type": "code",
   "execution_count": 12,
   "metadata": {
    "slideshow": {
     "slide_type": "subslide"
    }
   },
   "outputs": [
    {
     "name": "stdout",
     "output_type": "stream",
     "text": [
      "[[ 250  226]\n",
      " [ 683 2591]]\n",
      "====================\n",
      "Accuracy is: 0.7576\n",
      "====================\n",
      "Recall is: 0.2679528403001072\n"
     ]
    }
   ],
   "source": [
    "# Evaluate predictions\n",
    "\n",
    "from sklearn.metrics import accuracy_score, precision_score, recall_score, confusion_matrix\n",
    "\n",
    "print(confusion_matrix(y_test, y_pred, labels=[1,0]).T)\n",
    "print('='*20)\n",
    "\n",
    "print(\"Accuracy is:\", accuracy_score(y_test, y_pred))\n",
    "print('='*20)\n",
    "\n",
    "print(\"Recall is:\", recall_score(y_test, y_pred))"
   ]
  },
  {
   "cell_type": "code",
   "execution_count": 13,
   "metadata": {
    "slideshow": {
     "slide_type": "skip"
    }
   },
   "outputs": [
    {
     "name": "stdout",
     "output_type": "stream",
     "text": [
      "True positives: 250\n",
      "False positives: 226\n",
      "False negatives: 683\n",
      "True negatives: 2591\n"
     ]
    }
   ],
   "source": [
    "tp, tn, fp, fn = 0, 0, 0, 0\n",
    "\n",
    "for i in range(len(y_pred)):\n",
    "    if y_pred[i] == 1:\n",
    "        if y_pred[i] == y_test.values[i]:\n",
    "            tp += 1\n",
    "        else:\n",
    "            fp += 1\n",
    "    else:\n",
    "        if y_pred[i] == y_test.values[i]:\n",
    "            tn += 1\n",
    "        else:\n",
    "            fn += 1\n",
    "            \n",
    "print(\"True positives:\", tp)\n",
    "print(\"False positives:\", fp)\n",
    "print(\"False negatives:\", fn)\n",
    "print(\"True negatives:\", tn)"
   ]
  },
  {
   "cell_type": "markdown",
   "metadata": {
    "slideshow": {
     "slide_type": "slide"
    }
   },
   "source": [
    "## Class imbalance issue \n",
    "\n",
    "\n",
    "- Target has uneven distribution distribution of classes\n",
    "\n",
    "- `0` has $8611$ instances while `1` has $2638$ instances  "
   ]
  },
  {
   "cell_type": "code",
   "execution_count": 14,
   "metadata": {
    "slideshow": {
     "slide_type": "fragment"
    }
   },
   "outputs": [
    {
     "data": {
      "text/plain": [
       "0    8611\n",
       "1    2638\n",
       "Name: left, dtype: int64"
      ]
     },
     "execution_count": 14,
     "metadata": {},
     "output_type": "execute_result"
    }
   ],
   "source": [
    "y_train.value_counts()"
   ]
  },
  {
   "cell_type": "markdown",
   "metadata": {
    "slideshow": {
     "slide_type": "subslide"
    }
   },
   "source": [
    "## Assigning class-weights\n",
    "\n",
    "- Assign class `0` has less weight as compared to class `1`"
   ]
  },
  {
   "cell_type": "code",
   "execution_count": 15,
   "metadata": {
    "slideshow": {
     "slide_type": "fragment"
    }
   },
   "outputs": [],
   "source": [
    "# initialize Logistic Regression model\n",
    "logreg_new = LogisticRegression(random_state=2, class_weight={0:0.24, 1:0.76})\n",
    "\n",
    "# fit model on training data\n",
    "logreg_new.fit(X_train, y_train)\n",
    "\n",
    "# make predictions\n",
    "y_pred_new = logreg_new.predict(X_test)"
   ]
  },
  {
   "cell_type": "code",
   "execution_count": 16,
   "metadata": {
    "slideshow": {
     "slide_type": "subslide"
    }
   },
   "outputs": [
    {
     "name": "stdout",
     "output_type": "stream",
     "text": [
      "     0     1\n",
      "0  743   734\n",
      "1  190  2083\n",
      "====================\n",
      "Accuracy is: 0.7536\n",
      "====================\n",
      "Recall is: 0.7963558413719185\n"
     ]
    }
   ],
   "source": [
    "print(pd.DataFrame(confusion_matrix(y_test, y_pred_new, labels=[1,0])).T)\n",
    "print('='*20)\n",
    "\n",
    "print(\"Accuracy is:\", accuracy_score(y_test, y_pred_new))\n",
    "print('='*20)\n",
    "\n",
    "print(\"Recall is:\", recall_score(y_test, y_pred_new))"
   ]
  },
  {
   "cell_type": "markdown",
   "metadata": {
    "slideshow": {
     "slide_type": "subslide"
    }
   },
   "source": [
    "**More things you can try**\n",
    "\n",
    "- Undersampling and oversampling\n",
    "\n",
    "- Using other classifiers"
   ]
  },
  {
   "cell_type": "markdown",
   "metadata": {
    "slideshow": {
     "slide_type": "fragment"
    }
   },
   "source": [
    "**Further readings**\n",
    "\n",
    "- [In-depth understanding of Logistic Regression](https://www.dataschool.io/guide-to-logistic-regression/)\n",
    "\n",
    "- [What is Logistic Regression](https://www.statisticssolutions.com/what-is-logistic-regression/)\n",
    "\n",
    "- [Andrew NG's notes on Linear and Logistic Regression](http://cs229.stanford.edu/notes/cs229-notes1.pdf)\n",
    "\n",
    "- [Confusion Matrix](https://en.wikipedia.org/wiki/Confusion_matrix)"
   ]
  },
  {
   "cell_type": "code",
   "execution_count": null,
   "metadata": {},
   "outputs": [],
   "source": []
  }
 ],
 "metadata": {
  "celltoolbar": "Slideshow",
  "kernelspec": {
   "display_name": "Python 3",
   "language": "python",
   "name": "python3"
  },
  "language_info": {
   "codemirror_mode": {
    "name": "ipython",
    "version": 3
   },
   "file_extension": ".py",
   "mimetype": "text/x-python",
   "name": "python",
   "nbconvert_exporter": "python",
   "pygments_lexer": "ipython3",
   "version": "3.6.6"
  }
 },
 "nbformat": 4,
 "nbformat_minor": 2
}
