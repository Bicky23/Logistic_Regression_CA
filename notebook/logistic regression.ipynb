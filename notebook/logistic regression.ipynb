{
 "cells": [
  {
   "cell_type": "markdown",
   "metadata": {
    "slideshow": {
     "slide_type": "slide"
    }
   },
   "source": [
    "## Predicting Employee Churn with Logistic Regression"
   ]
  },
  {
   "cell_type": "markdown",
   "metadata": {
    "slideshow": {
     "slide_type": "subslide"
    }
   },
   "source": [
    "## What does **`churn`** mean?\n",
    "\n",
    "\n",
    "**Customer Churn**: Rate at which customers leave/cease paying for a product/service. Its a critical figure in many businesses, as acquiring new customers is a lot more costly than retaining existing ones.\n",
    "\n",
    "**Employee Churn**: Customer churn where *customer* is the *employee* of that company. It can be used to predict who, and when an employee will terminate the service.\n",
    "\n",
    "**GOAL**: Predict which employee will leave based on a given set of attributes"
   ]
  },
  {
   "cell_type": "markdown",
   "metadata": {
    "slideshow": {
     "slide_type": "subslide"
    }
   },
   "source": [
    "## Why Employee Churn is important?\n",
    "\n",
    "Cons of an employee leaving the company:\n",
    "- People with niche skills are important to replace\n",
    "- Disrupts ongoing workflow of workers\n",
    "- Incoming new employee may take time to get acquainted with the vacated role\n",
    "\n",
    "Leveraging the power of analytics we can predict churn rate of employees, which in turn can:\n",
    "- Help management design strategies accordingly\n",
    "- Improve overall working environment"
   ]
  },
  {
   "cell_type": "markdown",
   "metadata": {
    "slideshow": {
     "slide_type": "subslide"
    }
   },
   "source": [
    "## Agenda\n",
    "\n",
    "- Exploratory Data Analysis\n",
    "- Data preparation\n",
    "- Classification and its types\n",
    "- **Problem statement**\n",
    "- **Solving classification problems with linear regression**\n",
    "- Building blocks of Logistic Regression\n",
    "    - **Sigmoid**\n",
    "    - Odds ratio\n",
    "    - **Decision boundary stability**\n",
    "- Cost function intuition\n",
    "- Model building with scikit-learn\n",
    "- Evaluation metrics"
   ]
  },
  {
   "cell_type": "markdown",
   "metadata": {
    "slideshow": {
     "slide_type": "subslide"
    }
   },
   "source": [
    "## Session takeaways\n",
    "- Dataset preparation\n",
    "- Exploratory analysis\n",
    "- Nuts and bolts of logistic regression\n",
    "- Choice of evaluation metrics"
   ]
  },
  {
   "cell_type": "code",
   "execution_count": null,
   "metadata": {
    "slideshow": {
     "slide_type": "subslide"
    }
   },
   "outputs": [],
   "source": []
  },
  {
   "cell_type": "code",
   "execution_count": null,
   "metadata": {},
   "outputs": [],
   "source": []
  },
  {
   "cell_type": "code",
   "execution_count": null,
   "metadata": {},
   "outputs": [],
   "source": []
  },
  {
   "cell_type": "code",
   "execution_count": null,
   "metadata": {},
   "outputs": [],
   "source": []
  },
  {
   "cell_type": "code",
   "execution_count": null,
   "metadata": {},
   "outputs": [],
   "source": []
  },
  {
   "cell_type": "code",
   "execution_count": null,
   "metadata": {},
   "outputs": [],
   "source": []
  },
  {
   "cell_type": "code",
   "execution_count": null,
   "metadata": {},
   "outputs": [],
   "source": []
  },
  {
   "cell_type": "markdown",
   "metadata": {
    "slideshow": {
     "slide_type": "subslide"
    }
   },
   "source": [
    "## What is Classification?\n",
    "\n",
    "- Group data according to some criteria based on attributes. Ex:\n",
    "    - Predict genre of movie as **horror/suspense/thriller** based on plot, duration, actors etc.  \n",
    "    - Classify emails as **spam/ham email** based on email subject, email message, attachments etc.\n",
    "- `Different from regression`: Predict categories (discrete value) not continuous values. \n",
    "- Supervised learning mode; unsupervised version similar to classification also exists (clustering)."
   ]
  },
  {
   "cell_type": "markdown",
   "metadata": {
    "slideshow": {
     "slide_type": "subslide"
    }
   },
   "source": [
    "**Supervised vs Unsupervised learning**\n",
    "\n",
    "<img src='../images/supervised.png'>"
   ]
  },
  {
   "cell_type": "markdown",
   "metadata": {
    "slideshow": {
     "slide_type": "subslide"
    }
   },
   "source": [
    "- **`Unsupervised`**: We don't know about the targets of data points and goal is to categorize data into a finite number of categories based on given features\n",
    "- **`Supervised`**: Information about true targets are known (shown by colored points) and goal is predict that information (number/category) on unseen data"
   ]
  },
  {
   "cell_type": "markdown",
   "metadata": {
    "slideshow": {
     "slide_type": "subslide"
    }
   },
   "source": [
    "## \n",
    "\n"
   ]
  }
 ],
 "metadata": {
  "celltoolbar": "Slideshow",
  "kernelspec": {
   "display_name": "Python 3",
   "language": "python",
   "name": "python3"
  },
  "language_info": {
   "codemirror_mode": {
    "name": "ipython",
    "version": 3
   },
   "file_extension": ".py",
   "mimetype": "text/x-python",
   "name": "python",
   "nbconvert_exporter": "python",
   "pygments_lexer": "ipython3",
   "version": "3.6.6"
  }
 },
 "nbformat": 4,
 "nbformat_minor": 2
}
